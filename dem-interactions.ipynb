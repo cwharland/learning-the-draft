{
 "cells": [
  {
   "cell_type": "code",
   "execution_count": 1,
   "metadata": {
    "collapsed": false
   },
   "outputs": [
    {
     "name": "stderr",
     "output_type": "stream",
     "text": [
      "C:\\Users\\cwhar_000\\Anaconda3\\lib\\site-packages\\matplotlib\\__init__.py:872: UserWarning: axes.color_cycle is deprecated and replaced with axes.prop_cycle; please use the latter.\n",
      "  warnings.warn(self.msg_depr % (key, alt_key))\n"
     ]
    }
   ],
   "source": [
    "%matplotlib inline\n",
    "import pandas as pd\n",
    "import numpy as np\n",
    "import matplotlib.pyplot as plt\n",
    "import matplotlib.style\n",
    "import seaborn as sns\n",
    "from sklearn.preprocessing import Imputer\n",
    "\n",
    "sns.set_style('white')\n",
    "sns.set_context('talk')"
   ]
  },
  {
   "cell_type": "code",
   "execution_count": 2,
   "metadata": {
    "collapsed": false
   },
   "outputs": [],
   "source": [
    "combine_table = pd.read_csv('./data/combines.csv')\n",
    "draft_table = pd.read_csv('./data/drafts.csv')\n",
    "college_table = pd.read_csv('./data/college_stats.csv')"
   ]
  },
  {
   "cell_type": "code",
   "execution_count": 3,
   "metadata": {
    "collapsed": false
   },
   "outputs": [],
   "source": [
    "# just do w/e sean does but python\"ish\" but use method chaining a lot because...uhhh...w/e\n",
    "left = (draft_table.loc[:, ['year', 'round', 'pick',\n",
    "                            'team', 'player', 'college',\n",
    "                            'pos', 'age', 'carav',\n",
    "                            'drav', 'url']]\n",
    "                   .assign(key=lambda df: ['{0}-{1}'.format(p,y) if pd.isnull(u) else u\n",
    "                                           for u,p,y in df[['url', 'player', 'year']].values]))\n",
    "\n",
    "# use key as URL and fill NaN with player-year\n",
    "right = (combine_table.loc[:, ['year', 'player', 'pos',\n",
    "                               'college', 'height', 'weight',\n",
    "                               'forty', 'vertical', 'broad',\n",
    "                               'bench', 'threecone', 'shuttle',\n",
    "                               'url']]\n",
    "                      .rename(columns={'year': 'year_combine',\n",
    "                                       'player': 'player_combine',\n",
    "                                       'pos': 'pos_combine',\n",
    "                                       'college': 'college_combine',\n",
    "                                       'url': 'url_combine'})\n",
    "                      .assign(key=lambda df: ['{0}-{1}'.format(p,y) if pd.isnull(u) else u\n",
    "                                              for u,p,y in df[['url_combine',\n",
    "                                                               'player_combine',\n",
    "                                                               'year_combine']].values]))\n",
    "\n",
    "# filter down to get one row per player (we just throw away the dupe rows, bummer for you fellas!) \n",
    "right = right.groupby('key').first().reset_index()\n",
    "\n",
    "# slow but clear implementation of coalesce\n",
    "def coalesce(values):\n",
    "    try:\n",
    "        return next(e for e in values if not pd.isnull(e))\n",
    "    except:\n",
    "        return None\n",
    "\n",
    "def resolve_columns(columns):\n",
    "    '''take a numpy array and coalesce each row'''\n",
    "    return np.apply_along_axis(coalesce, 1, columns)\n",
    "\n",
    "# let's even test this shit to see if it's robust to the three types of NaN we might see in the dataframe!\n",
    "assert coalesce([None, float('nan'), np.nan, 6, 7]) == 6\n",
    "# and test the case for all None\n",
    "assert pd.isnull(coalesce([None, float('nan'), np.nan]))\n",
    "\n",
    "# join them up\n",
    "combined = (left.merge(right, how='outer', on='key')\n",
    "                .assign(player=lambda df: resolve_columns(df[['player', 'player_combine']]),\n",
    "                        pos=lambda df: resolve_columns(df[['pos', 'pos_combine']]),\n",
    "                        college=lambda df: resolve_columns(df[['college', 'college_combine']]),\n",
    "                        year=lambda df: resolve_columns(df[['year', 'year_combine']]),\n",
    "                        url=lambda df: resolve_columns(df[['url', 'url_combine']])))\n",
    "\n",
    "# to long for stats merge\n",
    "training = (combined.loc[:, ['key', 'carav', 'height',\n",
    "                             'weight', 'forty', 'vertical',\n",
    "                             'bench', 'age', 'threecone',\n",
    "                             'shuttle', 'broad']]\n",
    "                    .assign(height=lambda df: [float('nan') if pd.isnull(x)\n",
    "                                               else 12.0 * int(x.split('-')[0]) + int(x.split('-')[1])\n",
    "                                               for x in df.height]))\n",
    "\n",
    "# Looking at this now I don't get the wide to long, drop na, back to wide, impute, back to long\n",
    "# seems like you could just done set_index key, impute, wide to long *shrug*\n",
    "training = (pd.melt(training, id_vars=['key'], value_vars=['carav', 'height', 'weight',\n",
    "                                                           'forty', 'vertical', 'bench',\n",
    "                                                           'age', 'threecone', 'shuttle',\n",
    "                                                           'broad'])\n",
    "              .dropna()\n",
    "              .pivot_table(values='value', index='key', columns='variable'))\n",
    "\n",
    "# Impute with median (no fancy mice right now)\n",
    "# And yes, we're cheating by imputing before train/test split but YOLOLOLOLOLOL\n",
    "training.loc[:,['height', 'weight', 'forty',\n",
    "                'vertical', 'bench', 'age',\n",
    "                'threecone', 'shuttle','broad']] = (Imputer(strategy='median')\n",
    "                                                    .fit_transform(training[['height', 'weight', 'forty',\n",
    "                                                                             'vertical', 'bench', 'age',\n",
    "                                                                             'threecone', 'shuttle','broad']]))\n",
    "\n",
    "# Back to long\n",
    "training = pd.melt(training.reset_index(), id_vars=['key'], value_vars=['carav', 'height', 'weight',\n",
    "                                                                        'forty', 'vertical', 'bench',\n",
    "                                                                        'age', 'threecone', 'shuttle',\n",
    "                                                                        'broad'])\n",
    "\n",
    "# college stats\n",
    "college_stats = (college_table.groupby(['url','stat'])\n",
    "                              .first()\n",
    "                              .reset_index()\n",
    "                              .rename(columns={'url': 'key', 'stat': 'variable'})\n",
    "                              .drop('section', axis=1)\n",
    "                              .assign(variable=lambda df: [x.replace('.', '_') for x in df.variable]))\n",
    "\n",
    "# smash onto the end of training and reshape\n",
    "college_stats = (pd.concat([training, college_stats])\n",
    "                   .pivot_table(values='value', index='key', columns='variable', fill_value=0))\n",
    "\n",
    "# Add back in categoricals\n",
    "training_data = (combined[['key', 'player', 'pick', 'pos', 'college', 'year', 'team']]\n",
    "                 .merge((combined.groupby('college').player\n",
    "                         .aggregate(len)\n",
    "                         .reset_index()\n",
    "                         .rename(columns={'player': 'n_college_picks'})))\n",
    "                         .assign(short_college=lambda df: ['SMALL SCHOOL' if np < 50 else c for np, c in df[['n_college_picks',\n",
    "                                                                                                             'college']].values],\n",
    "                                 pick=lambda df: [257 if pd.isnull(x) else x for x in df.pick.values])\n",
    "                         .set_index('key')\n",
    "                         .merge(college_stats, left_index=True, right_index=True, how='inner')\n",
    "                         .reset_index()\n",
    "                         .fillna('None'))  # team has NaN make it string None\n",
    "\n",
    " # Split it up\n",
    "rng = np.random.RandomState(67)\n",
    "pre_2016_rows = training_data.index.values[(training_data['year'] < 2016).values]\n",
    "training_set_rows = rng.choice(pre_2016_rows, size=int(0.9 * len(pre_2016_rows)), replace=False)\n",
    "validation_set_rows = np.array(list(set(pre_2016_rows).difference(set(training_set_rows))))\n",
    "test_set_rows = training_data.index.values[~(training_data['year'] < 2016).values]\n",
    "\n",
    "# targets\n",
    "pick = training_data.pick.values\n",
    "carav = training_data.carav.values\n",
    "first_round = (pick <= 32).astype(int)\n",
    "\n",
    "# Whew..."
   ]
  },
  {
   "cell_type": "code",
   "execution_count": 4,
   "metadata": {
    "collapsed": false
   },
   "outputs": [],
   "source": [
    "## Feature engineering\n",
    "\n",
    "# columns we don't want as inputs\n",
    "exclude_columns = ['key', 'pick', 'player', 'college', 'year', 'team', 'n_college_picks']\n",
    "\n",
    "# One-hot the two categorical columns\n",
    "# Bit of cheating here too because we add columns for data possibly not found in training\n",
    "# but they are likely to get zero weight\n",
    "training_features = (pd.get_dummies(training_data, columns=['pos', 'short_college'], drop_first=True)\n",
    "                     .drop(exclude_columns, axis=1))"
   ]
  },
  {
   "cell_type": "code",
   "execution_count": 5,
   "metadata": {
    "collapsed": false
   },
   "outputs": [],
   "source": [
    "from sklearn.linear_model import LogisticRegressionCV\n",
    "from sklearn.metrics import roc_auc_score, roc_curve"
   ]
  },
  {
   "cell_type": "code",
   "execution_count": 6,
   "metadata": {
    "collapsed": false
   },
   "outputs": [
    {
     "name": "stderr",
     "output_type": "stream",
     "text": [
      "[Parallel(n_jobs=-1)]: Done   5 out of   5 | elapsed:   24.0s finished\n"
     ]
    },
    {
     "data": {
      "text/plain": [
       "LogisticRegressionCV(Cs=10, class_weight='balanced', cv=5, dual=False,\n",
       "           fit_intercept=True, intercept_scaling=1.0, max_iter=500,\n",
       "           multi_class='ovr', n_jobs=-1, penalty='l2', random_state=None,\n",
       "           refit=True, scoring=None, solver='liblinear', tol=0.0001,\n",
       "           verbose=1)"
      ]
     },
     "execution_count": 6,
     "metadata": {},
     "output_type": "execute_result"
    }
   ],
   "source": [
    "lr_model = LogisticRegressionCV(cv=5, class_weight='balanced', verbose=1, max_iter=500, solver='liblinear', n_jobs=-1)\n",
    "lr_model.fit(training_features.ix[training_set_rows, :].as_matrix(), first_round[training_set_rows])"
   ]
  },
  {
   "cell_type": "code",
   "execution_count": 17,
   "metadata": {
    "collapsed": false
   },
   "outputs": [],
   "source": [
    "feature_weights = pd.DataFrame(list(zip(training_features.columns.values, lr_model.coef_[0])), columns=['feature_name', 'weight'])"
   ]
  },
  {
   "cell_type": "code",
   "execution_count": 7,
   "metadata": {
    "collapsed": false
   },
   "outputs": [
    {
     "data": {
      "text/plain": [
       "0.90707493613397672"
      ]
     },
     "execution_count": 7,
     "metadata": {},
     "output_type": "execute_result"
    }
   ],
   "source": [
    "predictions = lr_model.predict_proba(training_features.as_matrix())[:,1]\n",
    "roc_auc_score(first_round[validation_set_rows], predictions[validation_set_rows])"
   ]
  },
  {
   "cell_type": "code",
   "execution_count": 22,
   "metadata": {
    "collapsed": false
   },
   "outputs": [
    {
     "data": {
      "image/png": "[encoded data removed]",
      "text/plain": [
       "<matplotlib.figure.Figure at 0xde30128>"
      ]
     },
     "metadata": {},
     "output_type": "display_data"
    }
   ],
   "source": [
    "fpr, tpr, thresholds = roc_curve(first_round[validation_set_rows], predictions[validation_set_rows], pos_label=1)\n",
    "plt.plot(fpr, tpr)\n",
    "sns.despine(left=True)\n",
    "plt.xlabel('False Positive Rate')\n",
    "_ = plt.ylabel('True Positive Rate')"
   ]
  },
  {
   "cell_type": "code",
   "execution_count": 19,
   "metadata": {
    "collapsed": false
   },
   "outputs": [
    {
     "data": {
      "text/html": [
       "<div>\n",
       "<table border=\"1\" class=\"dataframe\">\n",
       "  <thead>\n",
       "    <tr style=\"text-align: right;\">\n",
       "      <th></th>\n",
       "      <th>feature_name</th>\n",
       "      <th>weight</th>\n",
       "    </tr>\n",
       "  </thead>\n",
       "  <tbody>\n",
       "    <tr>\n",
       "      <th>9</th>\n",
       "      <td>forty</td>\n",
       "      <td>-1.146214</td>\n",
       "    </tr>\n",
       "    <tr>\n",
       "      <th>123</th>\n",
       "      <td>short_college_SMALL SCHOOL</td>\n",
       "      <td>-0.823177</td>\n",
       "    </tr>\n",
       "    <tr>\n",
       "      <th>1</th>\n",
       "      <td>age</td>\n",
       "      <td>-0.521957</td>\n",
       "    </tr>\n",
       "    <tr>\n",
       "      <th>77</th>\n",
       "      <td>pos_LB</td>\n",
       "      <td>-0.343647</td>\n",
       "    </tr>\n",
       "    <tr>\n",
       "      <th>61</th>\n",
       "      <td>threecone</td>\n",
       "      <td>-0.334020</td>\n",
       "    </tr>\n",
       "  </tbody>\n",
       "</table>\n",
       "</div>"
      ],
      "text/plain": [
       "                   feature_name    weight\n",
       "9                         forty -1.146214\n",
       "123  short_college_SMALL SCHOOL -0.823177\n",
       "1                           age -0.521957\n",
       "77                       pos_LB -0.343647\n",
       "61                    threecone -0.334020"
      ]
     },
     "execution_count": 19,
     "metadata": {},
     "output_type": "execute_result"
    }
   ],
   "source": [
    "feature_weights.sort_values(by='weight').head(5)"
   ]
  },
  {
   "cell_type": "code",
   "execution_count": 20,
   "metadata": {
    "collapsed": false
   },
   "outputs": [
    {
     "data": {
      "text/html": [
       "<div>\n",
       "<table border=\"1\" class=\"dataframe\">\n",
       "  <thead>\n",
       "    <tr style=\"text-align: right;\">\n",
       "      <th></th>\n",
       "      <th>feature_name</th>\n",
       "      <th>weight</th>\n",
       "    </tr>\n",
       "  </thead>\n",
       "  <tbody>\n",
       "    <tr>\n",
       "      <th>100</th>\n",
       "      <td>short_college_Florida</td>\n",
       "      <td>0.366887</td>\n",
       "    </tr>\n",
       "    <tr>\n",
       "      <th>33</th>\n",
       "      <td>punt_return_td</td>\n",
       "      <td>0.423924</td>\n",
       "    </tr>\n",
       "    <tr>\n",
       "      <th>87</th>\n",
       "      <td>pos_T</td>\n",
       "      <td>0.447743</td>\n",
       "    </tr>\n",
       "    <tr>\n",
       "      <th>109</th>\n",
       "      <td>short_college_Miami (F</td>\n",
       "      <td>0.499038</td>\n",
       "    </tr>\n",
       "    <tr>\n",
       "      <th>68</th>\n",
       "      <td>pos_DB</td>\n",
       "      <td>0.605095</td>\n",
       "    </tr>\n",
       "  </tbody>\n",
       "</table>\n",
       "</div>"
      ],
      "text/plain": [
       "               feature_name    weight\n",
       "100  short_college_Florida   0.366887\n",
       "33           punt_return_td  0.423924\n",
       "87                    pos_T  0.447743\n",
       "109  short_college_Miami (F  0.499038\n",
       "68                   pos_DB  0.605095"
      ]
     },
     "execution_count": 20,
     "metadata": {},
     "output_type": "execute_result"
    }
   ],
   "source": [
    "feature_weights.sort_values(by='weight').tail(5)"
   ]
  },
  {
   "cell_type": "code",
   "execution_count": null,
   "metadata": {
    "collapsed": true
   },
   "outputs": [],
   "source": []
  }
 ],
 "metadata": {
  "kernelspec": {
   "display_name": "Python 3",
   "language": "python",
   "name": "python3"
  },
  "language_info": {
   "codemirror_mode": {
    "name": "ipython",
    "version": 3
   },
   "file_extension": ".py",
   "mimetype": "text/x-python",
   "name": "python",
   "nbconvert_exporter": "python",
   "pygments_lexer": "ipython3",
   "version": "3.4.4"
  }
 },
 "nbformat": 4,
 "nbformat_minor": 0
}
